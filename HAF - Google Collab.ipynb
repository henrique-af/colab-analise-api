{
  "cells": [
    {
      "cell_type": "markdown",
      "metadata": {
        "id": "SBFOGMgFRaPq"
      },
      "source": [
        "### **1. Introdução**\n",
        "\n",
        "**Objetivo:**\n",
        "\n",
        "Neste notebook, vamos desenvolver um pipeline de dados para extrair informações de vendas e produtos da API do MercadoLivre, armazená-las em um banco de dados SQLite e realizar uma extração adicional de dados descritivos dos produtos. O foco será nos seguintes campos:\n",
        "\n",
        "\n",
        "- ID do vendedor (seller_id)\n",
        "- Data da venda (date_created)\n",
        "- ID do produto (item_id)\n",
        "- Quantidade (quantity)\n",
        "- Preço unitário (unit_price)\n",
        "\n",
        "---\n",
        "\n",
        "**Dependências:**\n",
        "\n",
        "- requests: para fazer requisições à API do MercadoLivre.\n",
        "- sqlite3: para interagir com o banco de dados SQLite.\n",
        "- json: para manipulação de dados JSON."
      ]
    },
    {
      "cell_type": "markdown",
      "metadata": {
        "id": "N1u8icUC1WXw"
      },
      "source": [
        "## **2. Configuração Inicial**\n",
        "\n",
        "- **Importação das bibliotecas necessárias:** Neste passo, vamos importar as bibliotecas essenciais para interagir com a API do MercadoLivre e manipular os dados."
      ]
    },
    {
      "cell_type": "code",
      "execution_count": null,
      "metadata": {
        "id": "cyfB2nHoQkVi"
      },
      "outputs": [],
      "source": [
        "import requests\n",
        "import sqlite3\n",
        "import json\n",
        "from datetime import datetime\n"
      ]
    },
    {
      "cell_type": "markdown",
      "metadata": {
        "id": "lMRu8VFBHpKV"
      },
      "source": [
        "- **Definição das variáveis de autenticação e id do vendedor:** Aqui, definimos as variáveis necessárias para autenticação na API e o vendedor que queremos consultar.\n",
        "\n",
        "\n",
        "**Observação:** Para obter uma chave de acesso à API, siga os passos descritos na documentação oficial:\n",
        "\n",
        "[Documentação de Autenticação e Autorização do MercadoLivre.](https://developers.mercadolivre.com.br/pt_br/autenticacao-e-autorizacao)"
      ]
    },
    {
      "cell_type": "code",
      "execution_count": null,
      "metadata": {
        "id": "Xr9kcZpy1buG"
      },
      "outputs": [],
      "source": [
        "ACCESS_TOKEN = 'SEU_ACCESS_TOKEN_AQUI'\n",
        "SITE_ID = 'MLB' # Id referente ao Brasil\n",
        "SELLER_ID = ['792353538', '451403353', '18229478']  # ID da loja oficial da Nike, Adidas e Futnatics"
      ]
    },
    {
      "cell_type": "markdown",
      "metadata": {
        "id": "Yx6gppT81mg7"
      },
      "source": [
        "### **3. Criação do banco de dados e da tabela**\n",
        "\n",
        "- **Objetivo:**\n",
        "Neste passo, vamos criar uma tabela para armazenar os dados de vendas extraídos da API do Mercado Livre. A tabela será nomeada **vendas**, e sua estrutura será cuidadosamente projetada para garantir a integridade e a eficiência do banco de dados.\n"
      ]
    },
    {
      "cell_type": "code",
      "execution_count": null,
      "metadata": {
        "id": "2GEZ6M8n1lSr"
      },
      "outputs": [],
      "source": [
        "conn = sqlite3.connect('mercadolivre.db')"
      ]
    },
    {
      "cell_type": "markdown",
      "metadata": {
        "id": "ClkZhB8PIw1m"
      },
      "source": [
        "### **3.1. Criação da Tabela para Dados de Vendas**\n",
        "\n",
        "A tabela **vendas** será composta pelos seguintes campos:\n",
        "\n",
        "- **id**: Um identificador único gerado automaticamente para cada venda.\n",
        " Facilita a identificação única de cada registro de venda, permitindo operações de atualização e exclusão sem ambiguidade.\n",
        "\n",
        "- **seller_id**: ID do vendedor, um identificador único para o vendedor na plataforma.\n",
        " Permite rastrear quais vendedores estão associados a cada venda, fundamental para análises de performance.\n",
        "\n",
        "- **date_created**: Data e hora em que a venda foi realizada.\n",
        " Essencial para análises temporais, como vendas diárias, semanais ou mensais.\n",
        "\n",
        "- **item_id**: ID do produto, utilizado como chave primária para identificar de forma única cada venda.\n",
        " Facilita a vinculação das vendas com os produtos correspondentes, essencial para análise de desempenho por produto.\n",
        "\n",
        "- **quantity**: Quantidade vendida do produto.\n",
        " Informação crítica para análise de volume de vendas e planejamento de estoque.\n",
        "\n",
        " - **currency**: Moeda utilizada para cadastrar o produto.\n",
        "\n",
        "- **unit_price**: Preço unitário do produto na venda.\n",
        " Permite calcular a receita gerada por cada venda e realizar análises financeiras.\n",
        "\n",
        "- **catalog_product_id**: ID do produto segundo a plataforma. Usada para buscar informações com a tabela produtos.\n",
        "\n",
        "- **created_at**: Registro de quando a venda foi inserida na tabela.\n",
        " Ajuda a rastrear quando os dados foram registrados no banco de dados, útil para auditoria e controle de versão.\n",
        "\n",
        "- **updated_at**: Registro de quando a venda foi atualizada pela última vez.\n",
        " Melhora a rastreabilidade dos dados e auxilia na manutenção do banco, permitindo identificar alterações recentes.\n",
        "\n",
        "- **categoria_id**: Referência para a categoria do produto.\n",
        " Permite classificar as vendas por categorias de produtos, facilitando a análise de vendas por segmento."
      ]
    },
    {
      "cell_type": "markdown",
      "metadata": {
        "id": "YcsX-ttONDga"
      },
      "source": [
        "### **3.2 Código para Criação da Tabela vendas**"
      ]
    },
    {
      "cell_type": "code",
      "execution_count": null,
      "metadata": {
        "id": "MjqHZMVuKvjf"
      },
      "outputs": [],
      "source": [
        "cursor = conn.cursor()\n",
        "\n",
        "create_vendas_table = \"\"\"\n",
        "CREATE TABLE IF NOT EXISTS vendas (\n",
        "    id INTEGER PRIMARY KEY AUTOINCREMENT,\n",
        "    seller_id TEXT NOT NULL,\n",
        "    date_created DATETIME NOT NULL,\n",
        "    item_id TEXT NOT NULL,\n",
        "    quantity INTEGER NOT NULL,\n",
        "    currency TEXT NOT NULL,\n",
        "    unit_price REAL NOT NULL,\n",
        "    catalog_product_id TEXT,\n",
        "    created_at DATETIME DEFAULT CURRENT_TIMESTAMP,\n",
        "    updated_at DATETIME DEFAULT CURRENT_TIMESTAMP,\n",
        "    categoria_id INTEGER,\n",
        "    FOREIGN KEY (categoria_id) REFERENCES categorias(categoria_id)\n",
        ");\n",
        "\"\"\"\n",
        "\n",
        "cursor.execute(create_vendas_table)\n",
        "\n",
        "conn.commit()\n"
      ]
    },
    {
      "cell_type": "markdown",
      "metadata": {
        "id": "DoP2FVcNNNpu"
      },
      "source": [
        "#### **3.3 Justificativa da Estrutura da Tabela**\n",
        "\n",
        "A tabela **vendas** foi estruturada com atenção às melhores práticas de banco de dados. Os campos foram escolhidos para garantir a captura de dados essenciais para análises futuras, enquanto as chaves primárias e estrangeiras estabelecem relacionamentos claros entre diferentes tabelas. A inclusão de timestamps (created_at e updated_at) permite um controle rigoroso sobre as atualizações de dados e facilita auditorias.\n"
      ]
    },
    {
      "cell_type": "markdown",
      "metadata": {
        "id": "17A-A_eMO21F"
      },
      "source": [
        "### **4. Popular a Tabela `vendas` com Dados da API**\n",
        "\n",
        "#### **4.1 Estrutura do Código**\n",
        "\n",
        "Primeiro, vamos criar um código que extrai os dados relevantes do vendedor retornados pela API e insere essas informações na tabela vendas."
      ]
    },
    {
      "cell_type": "code",
      "execution_count": null,
      "metadata": {
        "id": "zG24e49DRhg7"
      },
      "outputs": [],
      "source": [
        "for SELLER in SELLER_ID:\n",
        "    url = f\"https://api.mercadolibre.com/sites/{SITE_ID}/search?seller_id={SELLER}\"\n",
        "    headers = {\n",
        "        'Authorization': f'Bearer {ACCESS_TOKEN}'\n",
        "    }\n",
        "\n",
        "    response = requests.get(url, headers=headers)\n",
        "    data = response.json()\n",
        "\n",
        "    # Iterar sobre os produtos e inserir na tabela 'vendas'\n",
        "    for product in data['results']:\n",
        "        if product.get('catalog_listing'):\n",
        "            seller_id = product['seller']['id']\n",
        "            item_id = product['id']\n",
        "            currency = product['currency_id']\n",
        "            price = product['price']\n",
        "            quantity = product['available_quantity']\n",
        "            catalog_product_id = product.get('catalog_product_id')\n",
        "            date_created = product['sale_price']['conditions']['start_time'] if product['sale_price']['conditions'].get('start_time') else product['stop_time']\n",
        "            created_at = datetime.now()\n",
        "            updated_at = datetime.now()\n",
        "\n",
        "            insert_query = \"\"\"\n",
        "            INSERT INTO vendas (seller_id, date_created, item_id, quantity, currency, unit_price, catalog_product_id, created_at, updated_at)\n",
        "            VALUES (?, ?, ?, ?, ?, ?, ?, ?, ?);\n",
        "            \"\"\"\n",
        "            cursor.execute(insert_query, (seller_id, date_created, item_id, quantity, currency, price, catalog_product_id, created_at, updated_at))\n",
        "\n",
        "\n",
        "conn.commit()"
      ]
    },
    {
      "cell_type": "markdown",
      "metadata": {
        "id": "HCS-BiVJTCnG"
      },
      "source": [
        "### **4.2 Explicação do Código**\n",
        "\n",
        "1. **Requisição à API:** O código começa fazendo uma requisição à API do Mercado Livre para obter produtos do vendedor especificado.\n",
        "\n",
        "2. **Conexão ao Banco de Dados:** Em seguida, estabelece uma conexão com o banco de dados SQLite.\n",
        "\n",
        "3. **Inserção dos Dados:**\n",
        "   - Para cada produto na resposta da API, os campos **seller_id**, **item_id**, **unit_price**, **available_quantity**, **date_created**, **created_at**, e **updated_at** são extraídos.\n",
        "   - Os dados são inseridos na tabela **vendas** usando uma consulta SQL de inserção.\n",
        "\n",
        "4. **Salvar Alterações:** Após a inserção, as alterações são salvas.\n"
      ]
    },
    {
      "cell_type": "markdown",
      "metadata": {
        "id": "86dd2_jidUwu"
      },
      "source": [
        "### **5. Extração Adicional de Dados do Produto**\n",
        "\n",
        "Neste passo, utilizaremos o item_id de cada produto na tabela **vendas** para realizar requisições à API do Mercado Livre, coletando informações adicionais sobre cada produto."
      ]
    },
    {
      "cell_type": "markdown",
      "metadata": {
        "id": "I-ggUWUleXgZ"
      },
      "source": [
        "### **5.1. Criação do schema da tabela de Produtos**"
      ]
    },
    {
      "cell_type": "code",
      "execution_count": null,
      "metadata": {
        "id": "icpuj7vNebD4"
      },
      "outputs": [],
      "source": [
        "create_produtos_table = \"\"\"\n",
        "CREATE TABLE IF NOT EXISTS produtos (\n",
        "    product_id TEXT PRIMARY KEY,\n",
        "    seller_id INTEGER NOT NULL,\n",
        "    name TEXT NOT NULL,\n",
        "    category_id TEXT NOT NULL,\n",
        "    thumbnail TEXT,\n",
        "    category_domain TEXT NOT NULL,\n",
        "    available_quantity INTEGER NOT NULL,\n",
        "    date_created DATETIME DEFAULT CURRENT_TIMESTAMP,\n",
        "    updated_at DATETIME DEFAULT CURRENT_TIMESTAMP\n",
        ");\n",
        "\"\"\"\n",
        "\n",
        "cursor.execute(create_produtos_table)"
      ]
    },
    {
      "cell_type": "markdown",
      "metadata": {
        "id": "L0c-zSVAe-Qz"
      },
      "source": [
        "### 5.2. Descrição Técnica dos Campos da Tabela Produtos\n",
        "\n",
        "- **product_id**: Identificador único do produto obtido da API do Mercado Livre, utilizado como chave primária.\n",
        "- **seller_id**: Identificador do vendedor que oferece o produto, possibilitando análises de vendas por vendedor.\n",
        "- **name**: Nome do produto para identificação e busca.\n",
        "- **description**: Descrição detalhada do produto, útil para informações adicionais sobre o item.\n",
        "- **category_id**: Identificador da categoria do produto, facilitando a organização e análise por categoria.\n",
        "- **thumbnail**: URL da imagem do produto para representação visual e uso em interfaces de usuário.\n",
        "- **category_domain**: Descrição da categoria de acordo com o código.\n",
        "- **available_quantity**: Quantidade disponível do produto.\n",
        "- **date_created**: Data de criação do registro do produto na tabela, útil para auditoria e rastreamento de dados.\n",
        "- **updated_at**: Data da última atualização do registro do produto."
      ]
    },
    {
      "cell_type": "code",
      "execution_count": null,
      "metadata": {
        "id": "j3ty-LSRdW-C"
      },
      "outputs": [],
      "source": [
        "cursor.execute(\"SELECT item_id FROM vendas\")\n",
        "item_ids = cursor.fetchall()\n",
        "\n",
        "for item in item_ids:\n",
        "    item_id = item[0]  # extrai o item_id da tupla\n",
        "\n",
        "    url = f\"https://api.mercadolibre.com/items/{item_id}\"\n",
        "    headers = {'Authorization': f'Bearer {ACCESS_TOKEN}'}\n",
        "    response = requests.get(url, headers=headers)\n",
        "    product_data = response.json()\n",
        "\n",
        "    product_id = product_data['id']\n",
        "    seller_id = product_data['seller_id']\n",
        "    name = product_data['title']\n",
        "    category_id = product_data['category_id']\n",
        "    thumbnail = product_data['thumbnail']\n",
        "    category_domain = product_data['domain_id']\n",
        "    available_quantity = product_data['initial_quantity']\n",
        "    date_created = datetime.now()\n",
        "    updated_at = datetime.now()\n",
        "\n",
        "    cursor.execute(\"SELECT COUNT(1) FROM produtos WHERE product_id = ?\", (product_id,))\n",
        "    exists = cursor.fetchone()[0]\n",
        "\n",
        "    if exists == 0:\n",
        "        insert_query = \"\"\"\n",
        "        INSERT INTO produtos (product_id, seller_id, name, category_id, thumbnail, category_domain, available_quantity, date_created, updated_at)\n",
        "        VALUES (?, ?, ?, ?, ?, ?, ?, ?, ?);\n",
        "        \"\"\"\n",
        "        cursor.execute(insert_query, (product_id, seller_id, name, category_id, thumbnail, category_domain, available_quantity, date_created, updated_at))\n",
        "\n",
        "conn.commit()"
      ]
    },
    {
      "cell_type": "markdown",
      "metadata": {
        "id": "1T77oIIfdlxg"
      },
      "source": [
        "### **5.2. Explicação do Código**\n",
        "\n",
        "1. **Conexão ao Banco de Dados:** O código se conecta ao banco de dados SQLite, onde a tabela **produtos** foi criada.\n",
        "\n",
        "2. **Recuperação de item_ids:** Recupera todos os items da tabela **vendas** para que os dados descritivos possam ser buscados.\n",
        "\n",
        "3. **Requisição à API:** Para cada item_id, o código faz uma nova requisição à API do Mercado Livre para obter detalhes adicionais do produto.\n",
        "\n",
        "4. **Inserção dos Dados:** Os dados coletados são inseridos na tabela **produtos** através de uma consulta SQL.\n",
        "\n",
        "5. **Salvar Alterações:** As alterações são salvas no banco de dados."
      ]
    },
    {
      "cell_type": "markdown",
      "metadata": {
        "id": "XPMtaAUEiyL0"
      },
      "source": [
        "\n",
        "### **6. Como você nomearia cada tabela e por quê?**\n",
        "\n",
        "### Tabela vendas\n",
        "\n",
        "**Justificativa**:\n",
        "1. **Clareza**: O nome vendas é direto e descritivo, permitindo que qualquer membro da equipe de dados compreenda imediatamente o propósito da tabela. Essa clareza é vital em um ambiente de trabalho onde a equipe pode incluir profissionais de diferentes formações e níveis de experiência.\n",
        "\n",
        "2. **Consistência**: A nomenclatura segue uma convenção de nomeação que é facilmente reconhecível. Isso é particularmente importante em um banco de dados com várias tabelas, onde manter uma consistência nos nomes facilita a navegação e o entendimento geral da estrutura de dados.\n",
        "\n",
        "3. **Escalabilidade**: À medida que a empresa cresce e mais dados são coletados, a tabela vendas pode ser expandida para incluir novas colunas ou relacionamentos sem a necessidade de alterar seu nome ou estrutura básica. Isso é essencial em um ambiente corporativo onde os requisitos de negócios podem mudar rapidamente.\n",
        "\n",
        "### Tabela produtos\n",
        "\n",
        "**Justificativa**:\n",
        "1. **Clareza**: Assim como a tabela vendas, o nome produtos comunica de forma eficaz o conteúdo da tabela. Ele reflete precisamente que as informações contidas são relacionadas a produtos, essencial para consultas e relatórios que a equipe de negócios possa necessitar.\n",
        "\n",
        "2. **Facilidade de consulta**: Em um ambiente corporativo onde relatórios e análises de dados são comuns, ter uma tabela claramente nomeada como produtos permite que os analistas de BI construam consultas SQL rapidamente, sem a necessidade de pesquisar ou consultar documentação adicional.\n",
        "\n",
        "3. **Relacionalidade**: A escolha do nome produtos também permite uma fácil definição de relacionamentos com outras tabelas, como a tabela vendas. Essa relação é crítica para análises que buscam entender o desempenho de vendas por produto, facilitando decisões estratégicas baseadas em dados.\n",
        "\n",
        "### Conclusão\n",
        "\n",
        "A escolha dos nomes das tabelas vendas e produtos reflete uma abordagem deliberada para garantir clareza, consistência e escalabilidade em um ambiente corporativo complexo. Essas características são fundamentais para facilitar a manutenção do banco de dados e a realização de análises de dados, promovendo uma cultura orientada a dados que é essencial para o sucesso da empresa. Através dessa nomenclatura cuidadosa, buscamos não apenas atender às necessidades atuais, mas também garantir que o sistema possa evoluir de forma sustentável em resposta às futuras demandas de negócios."
      ]
    },
    {
      "cell_type": "code",
      "execution_count": null,
      "metadata": {
        "id": "RQrddCSokAhh"
      },
      "outputs": [],
      "source": [
        "# Fechando a conexão com o banco\n",
        "conn.close()"
      ]
    },
    {
      "cell_type": "markdown",
      "metadata": {
        "id": "f4zIBfVga6hG"
      },
      "source": [
        "________________________________________________\n",
        "________________________________\n",
        "_________________________\n",
        "________\n",
        "____\n"
      ]
    },
    {
      "cell_type": "markdown",
      "metadata": {
        "id": "E16T2e1ZbFwH"
      },
      "source": [
        "________________________________________________\n",
        "________________________________\n",
        "_________________________\n",
        "________\n",
        "____\n"
      ]
    },
    {
      "cell_type": "markdown",
      "metadata": {
        "id": "42QX8C6YbG_Z"
      },
      "source": [
        "## **Atividade 2**\n",
        "\n",
        "1. A atividade 2 faz parte da análise dos dados capturados na atividade 1, foram criadas visões de receita total, número de produtos vendidos e o preço médio de venda por vendedor no banco de dados.\n",
        "2. Foi identificado qual o produto mais vendido, o vendedor com maior faturamento e a evolução agregada das vendas ao longo do tempo separadas por categoria."
      ]
    },
    {
      "cell_type": "code",
      "execution_count": null,
      "metadata": {
        "id": "mNnnwtqz1blm"
      },
      "outputs": [],
      "source": [
        "query_receita_total = \"\"\"\n",
        "SELECT printf('R$ %,.2f', SUM(v.unit_price * v.quantity)) AS receita_total\n",
        "FROM vendas v\n",
        "WHERE v.currency = 'BRL';\n",
        "\"\"\"\n",
        "cursor.execute(query_receita_total)\n",
        "receita_total = cursor.fetchone()[0]\n",
        "print(f\"Receita Total: {receita_total}\")"
      ]
    },
    {
      "cell_type": "code",
      "execution_count": null,
      "metadata": {
        "id": "QNNtgkBQ1gs0"
      },
      "outputs": [],
      "source": [
        "query_preco_medio_por_vendedor = \"\"\"\n",
        "SELECT v.seller_id, printf('R$ %,.2f', AVG(v.unit_price)) AS preco_medio\n",
        "FROM vendas v\n",
        "WHERE currency = 'BRL'\n",
        "GROUP BY v.seller_id;\n",
        "\"\"\"\n",
        "cursor.execute(query_preco_medio_por_vendedor)\n",
        "preco_medio_por_vendedor = cursor.fetchall()\n",
        "print(\"Preço médio por vendedor:\\n\\n\")\n",
        "for row in preco_medio_por_vendedor:\n",
        "    print(f\"Vendedor ID: {row[0]}, Preço Médio: {row[1]}\")"
      ]
    },
    {
      "cell_type": "code",
      "execution_count": null,
      "metadata": {
        "id": "uqHflXnH1i2w"
      },
      "outputs": [],
      "source": [
        "query_total_produtos_vendidos = \"\"\"\n",
        "SELECT SUM(v.quantity) AS total_produtos_vendidos\n",
        "FROM vendas v;\n",
        "\"\"\"\n",
        "cursor.execute(query_total_produtos_vendidos)\n",
        "total_produtos_vendidos = cursor.fetchone()[0]\n",
        "print(f\"Total de Produtos Vendidos: {total_produtos_vendidos}\")\n"
      ]
    },
    {
      "cell_type": "code",
      "execution_count": null,
      "metadata": {
        "id": "0rf7lLgZ1k8Z"
      },
      "outputs": [],
      "source": [
        "query_produto_mais_vendido = \"\"\"\n",
        "SELECT p.name, SUM(v.quantity) AS total_vendido\n",
        "FROM vendas v\n",
        "LEFT JOIN produtos p ON v.item_id = p.product_id\n",
        "GROUP BY p.name\n",
        "ORDER BY total_vendido DESC\n",
        "LIMIT 1;\n",
        "\"\"\"\n",
        "cursor.execute(query_produto_mais_vendido)\n",
        "produto_mais_vendido = cursor.fetchone()\n",
        "print(f\"Produto Mais Vendido: {produto_mais_vendido[0]}, Total Vendido: {produto_mais_vendido[1]}\")"
      ]
    },
    {
      "cell_type": "code",
      "execution_count": null,
      "metadata": {
        "id": "7l7qBYrD1nQo"
      },
      "outputs": [],
      "source": [
        "query_vendedor_maior_faturamento = \"\"\"\n",
        "SELECT v.seller_id, printf('R$ %,.2f', SUM(v.unit_price * v.quantity)) AS faturamento_total\n",
        "FROM vendas v\n",
        "WHERE currency = 'BRL'\n",
        "GROUP BY v.seller_id\n",
        "ORDER BY faturamento_total DESC\n",
        "LIMIT 1;\n",
        "\"\"\"\n",
        "cursor.execute(query_vendedor_maior_faturamento)\n",
        "vendedor_maior_faturamento = cursor.fetchone()\n",
        "print(f\"Vendedor com maior faturamento:\\n\\n Vendedor ID: {vendedor_maior_faturamento[0]}, Faturamento Total: {vendedor_maior_faturamento[1]}\")"
      ]
    },
    {
      "cell_type": "code",
      "execution_count": null,
      "metadata": {
        "id": "C_vV-7nHbkmp"
      },
      "outputs": [],
      "source": [
        "query_evolucao_vendas = \"\"\"\n",
        "SELECT strftime('%m-%Y', v.date_created) AS mes_ano,\n",
        "       COALESCE(p.category_id, 'Desconhecida') AS categoria,\n",
        "       SUM(v.quantity) AS total_vendas\n",
        "FROM vendas v\n",
        "LEFT JOIN produtos p ON v.item_id = p.product_id\n",
        "GROUP BY mes_ano, categoria\n",
        "ORDER BY total_vendas DESC;\n",
        "\"\"\"\n",
        "cursor.execute(query_evolucao_vendas)\n",
        "evolucao_vendas = cursor.fetchall()\n",
        "\n",
        "print(\"Evolução de vendas ao longo do tempo por categoria:\\n\")\n",
        "for row in evolucao_vendas:\n",
        "    print(f\"Mês-Ano: {row[0]}, Categoria: {row[1]}, Total Vendido: {row[2]}\")"
      ]
    },
    {
      "cell_type": "markdown",
      "metadata": {
        "id": "j8CaEJVr5aqA"
      },
      "source": [
        "______\n",
        "____________\n",
        "______\n",
        "______"
      ]
    },
    {
      "cell_type": "markdown",
      "metadata": {
        "id": "WDbZKzkmxHIS"
      },
      "source": [
        "Atividade 3: Extração dos dados para CSV"
      ]
    },
    {
      "cell_type": "code",
      "execution_count": null,
      "metadata": {
        "id": "WPluY-MBwYlE"
      },
      "outputs": [],
      "source": [
        "import sqlite3\n",
        "import pandas as pd\n",
        "\n",
        "conn = sqlite3.connect('mercadolivre.db')\n",
        "\n",
        "tabelas = pd.read_sql_query(\"SELECT name FROM sqlite_master WHERE type='table';\", conn)\n",
        "\n",
        "print(tabelas)\n",
        "\n",
        "for tabela in tabelas['name']:\n",
        "    df = pd.read_sql_query(f\"SELECT * FROM {tabela};\", conn)\n",
        "    df.to_csv(f\"{tabela}.csv\", index=False)\n",
        "\n",
        "conn.close()\n"
      ]
    },
    {
      "cell_type": "code",
      "execution_count": null,
      "metadata": {
        "id": "kQw38JJexF4o"
      },
      "outputs": [],
      "source": [
        "from google.colab import files\n",
        "\n",
        "\n",
        "for tabela in tabelas['name']:\n",
        "    files.download(f\"{tabela}.csv\")\n"
      ]
    },
    {
      "cell_type": "markdown",
      "metadata": {
        "id": "8h1MC_KGj6SF"
      },
      "source": [
        "### 1. Vendas por Categoria\n",
        "- **Explicação**: Este gráfico apresenta a distribuição das vendas por diferentes categorias de produtos. Cada barra representa o volume total de vendas de uma categoria específica, permitindo uma comparação clara entre elas.\n",
        "\n",
        "### 2. Análise Temporal de Vendas\n",
        "- **Explicação**: Este gráfico ilustra a evolução das vendas ao longo do tempo.\n",
        "\n",
        "### 3. Receita Total por Vendedor\n",
        "- **Explicação**: Este gráfico mostra a receita total gerada por cada vendedor, permitindo uma análise da performance individual.\n",
        "\n",
        "### 4. Quantidade de Vendas por Vendedor\n",
        "- **Explicação**: Este gráfico ilustra a quantidade total de vendas realizadas por cada vendedor. Cada barra representa o total de unidades vendidas por cada vendedor."
      ]
    }
  ],
  "metadata": {
    "colab": {
      "provenance": []
    },
    "kernelspec": {
      "display_name": "Python 3",
      "name": "python3"
    },
    "language_info": {
      "name": "python"
    }
  },
  "nbformat": 4,
  "nbformat_minor": 0
}
